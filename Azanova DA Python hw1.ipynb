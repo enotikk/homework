{
 "cells": [
  {
   "cell_type": "code",
   "execution_count": 9,
   "id": "9767cd32",
   "metadata": {},
   "outputs": [],
   "source": [
    "import os\n",
    "from pymystem3 import Mystem\n",
    "import pymorphy2"
   ]
  },
  {
   "cell_type": "code",
   "execution_count": 6,
   "id": "685bba53",
   "metadata": {},
   "outputs": [
    {
     "name": "stdout",
     "output_type": "stream",
     "text": [
      "Collecting pymystem3\n",
      "  Downloading pymystem3-0.2.0-py3-none-any.whl (10 kB)\n",
      "Requirement already satisfied: requests in c:\\users\\user\\anaconda3\\lib\\site-packages (from pymystem3) (2.25.1)\n",
      "Requirement already satisfied: chardet<5,>=3.0.2 in c:\\users\\user\\anaconda3\\lib\\site-packages (from requests->pymystem3) (4.0.0)\n",
      "Requirement already satisfied: idna<3,>=2.5 in c:\\users\\user\\anaconda3\\lib\\site-packages (from requests->pymystem3) (2.10)\n",
      "Requirement already satisfied: certifi>=2017.4.17 in c:\\users\\user\\anaconda3\\lib\\site-packages (from requests->pymystem3) (2020.12.5)\n",
      "Requirement already satisfied: urllib3<1.27,>=1.21.1 in c:\\users\\user\\anaconda3\\lib\\site-packages (from requests->pymystem3) (1.26.4)\n",
      "Installing collected packages: pymystem3\n",
      "Successfully installed pymystem3-0.2.0\n",
      "Note: you may need to restart the kernel to use updated packages.\n"
     ]
    }
   ],
   "source": [
    "pip install pymystem3"
   ]
  },
  {
   "cell_type": "code",
   "execution_count": 8,
   "id": "06018474",
   "metadata": {},
   "outputs": [
    {
     "name": "stdout",
     "output_type": "stream",
     "text": [
      "Requirement already satisfied: pymorphy2 in c:\\users\\user\\anaconda3\\lib\\site-packages (0.9.1)\n",
      "Requirement already satisfied: dawg-python>=0.7.1 in c:\\users\\user\\anaconda3\\lib\\site-packages (from pymorphy2) (0.7.2)\n",
      "Requirement already satisfied: pymorphy2-dicts-ru<3.0,>=2.4 in c:\\users\\user\\anaconda3\\lib\\site-packages (from pymorphy2) (2.4.417127.4579844)\n",
      "Requirement already satisfied: docopt>=0.6 in c:\\users\\user\\anaconda3\\lib\\site-packages (from pymorphy2) (0.6.2)\n",
      "Note: you may need to restart the kernel to use updated packages.\n"
     ]
    }
   ],
   "source": [
    "pip install pymorphy2"
   ]
  },
  {
   "cell_type": "code",
   "execution_count": 11,
   "id": "d6b89a4b",
   "metadata": {},
   "outputs": [],
   "source": [
    "m = Mystem()"
   ]
  },
  {
   "cell_type": "code",
   "execution_count": 24,
   "id": "e227d5af",
   "metadata": {},
   "outputs": [],
   "source": [
    "separator = '. '"
   ]
  },
  {
   "cell_type": "code",
   "execution_count": 94,
   "id": "d505a7e8",
   "metadata": {},
   "outputs": [],
   "source": [
    "def partOfSpeech(word, posFile):\n",
    "    wordPos = m.analyze(word)\n",
    "    pos = ''\n",
    "    for item in wordPos:\n",
    "        if 'analysis' in item:\n",
    "            gr = item['analysis'][0]['gr']\n",
    "            pos = gr.split('=')[0].split(',')[0]\n",
    "    posFile.write(word + ' ' + pos + '\\n')"
   ]
  },
  {
   "cell_type": "code",
   "execution_count": 100,
   "id": "d0c19af8",
   "metadata": {},
   "outputs": [],
   "source": [
    "def cleanSentence(sentence, posFile):\n",
    "    handledWords = []\n",
    "    words = sentence.split()\n",
    "    for word in words:\n",
    "        word = word.strip()\n",
    "        word = word.lower()\n",
    "        #partOfSpeech(word, posFile)\n",
    "        handledWords.append(word.strip(',.!?\"()-:;/\\|'))\n",
    "    return ' '.join(handledWords)"
   ]
  },
  {
   "cell_type": "code",
   "execution_count": 80,
   "id": "0717e46f",
   "metadata": {},
   "outputs": [],
   "source": [
    "def fileHandle(filename, fileOutputName):\n",
    "    f = open(filename, 'r', encoding='utf-8')\n",
    "    output = open(fileOutputName, 'w+', encoding='utf-8')\n",
    "    pos = open('postext.txt', 'w+', encoding='utf-8')\n",
    "    s = f.read()\n",
    "    sentences = s.split(separator)\n",
    "    for item in sentences:\n",
    "        lemmas = m.lemmatize(cleanSentence(item, pos))\n",
    "        output.write(''.join(lemmas))\n",
    "    output.close()\n",
    "    pos.close()\n",
    "    f.close()"
   ]
  },
  {
   "cell_type": "code",
   "execution_count": 107,
   "id": "2ed6f2de",
   "metadata": {},
   "outputs": [
    {
     "name": "stdout",
     "output_type": "stream",
     "text": [
      "Requirement already satisfied: gensim in c:\\users\\user\\anaconda3\\lib\\site-packages (4.1.2)\n",
      "Requirement already satisfied: Cython==0.29.23 in c:\\users\\user\\anaconda3\\lib\\site-packages (from gensim) (0.29.23)\n",
      "Requirement already satisfied: numpy>=1.17.0 in c:\\users\\user\\anaconda3\\lib\\site-packages (from gensim) (1.20.1)\n",
      "Requirement already satisfied: scipy>=0.18.1 in c:\\users\\user\\anaconda3\\lib\\site-packages (from gensim) (1.6.2)\n",
      "Requirement already satisfied: smart-open>=1.8.1 in c:\\users\\user\\anaconda3\\lib\\site-packages (from gensim) (5.2.1)\n"
     ]
    }
   ],
   "source": [
    "!pip install gensim"
   ]
  },
  {
   "cell_type": "code",
   "execution_count": 108,
   "id": "baefd616",
   "metadata": {},
   "outputs": [],
   "source": [
    "import re\n",
    "import gensim\n",
    "import logging\n",
    "import nltk.data\n",
    "import pandas as pd\n",
    "import urllib.request\n",
    "from bs4 import BeautifulSoup\n",
    "from nltk.corpus import stopwords\n",
    "from gensim.models import word2vec\n",
    "\n",
    "import warnings\n",
    "warnings.filterwarnings('ignore')"
   ]
  },
  {
   "cell_type": "code",
   "execution_count": 166,
   "id": "3bba61de",
   "metadata": {},
   "outputs": [],
   "source": [
    "logging.basicConfig(format='%(asctime)s : %(levelname)s : %(message)s', level=logging.INFO)"
   ]
  },
  {
   "cell_type": "code",
   "execution_count": 165,
   "id": "ee61c850",
   "metadata": {},
   "outputs": [],
   "source": [
    "fileHandle('dost.txt', 'lemas.txt')"
   ]
  },
  {
   "cell_type": "code",
   "execution_count": 167,
   "id": "cc65cb68",
   "metadata": {},
   "outputs": [],
   "source": [
    "f = 'lemas.txt'\n",
    "data = gensim.models.word2vec.LineSentence(f)"
   ]
  },
  {
   "cell_type": "code",
   "execution_count": 202,
   "id": "753d1098",
   "metadata": {},
   "outputs": [
    {
     "name": "stderr",
     "output_type": "stream",
     "text": [
      "2021-12-08 13:57:39,171 : INFO : collecting all words and their counts\n",
      "2021-12-08 13:57:39,173 : INFO : PROGRESS: at sentence #0, processed 0 words, keeping 0 word types\n",
      "2021-12-08 13:57:39,257 : INFO : collected 13468 word types from a corpus of 177027 raw words and 6057 sentences\n",
      "2021-12-08 13:57:39,257 : INFO : Creating a fresh vocabulary\n",
      "2021-12-08 13:57:39,296 : INFO : Word2Vec lifecycle event {'msg': 'effective_min_count=2 retains 6940 unique words (51.52955152955153%% of original 13468, drops 6528)', 'datetime': '2021-12-08T13:57:39.296760', 'gensim': '4.1.2', 'python': '3.8.8 (default, Apr 13 2021, 15:08:03) [MSC v.1916 64 bit (AMD64)]', 'platform': 'Windows-10-10.0.19041-SP0', 'event': 'prepare_vocab'}\n",
      "2021-12-08 13:57:39,296 : INFO : Word2Vec lifecycle event {'msg': 'effective_min_count=2 leaves 170499 word corpus (96.31242691792778%% of original 177027, drops 6528)', 'datetime': '2021-12-08T13:57:39.296760', 'gensim': '4.1.2', 'python': '3.8.8 (default, Apr 13 2021, 15:08:03) [MSC v.1916 64 bit (AMD64)]', 'platform': 'Windows-10-10.0.19041-SP0', 'event': 'prepare_vocab'}\n",
      "2021-12-08 13:57:39,340 : INFO : deleting the raw counts dictionary of 13468 items\n",
      "2021-12-08 13:57:39,341 : INFO : sample=0.001 downsamples 57 most-common words\n",
      "2021-12-08 13:57:39,343 : INFO : Word2Vec lifecycle event {'msg': 'downsampling leaves estimated 126832.21700768945 word corpus (74.4%% of prior 170499)', 'datetime': '2021-12-08T13:57:39.343662', 'gensim': '4.1.2', 'python': '3.8.8 (default, Apr 13 2021, 15:08:03) [MSC v.1916 64 bit (AMD64)]', 'platform': 'Windows-10-10.0.19041-SP0', 'event': 'prepare_vocab'}\n",
      "2021-12-08 13:57:39,409 : INFO : estimated required memory for 6940 words and 300 dimensions: 20126000 bytes\n",
      "2021-12-08 13:57:39,409 : INFO : resetting layer weights\n",
      "2021-12-08 13:57:39,423 : INFO : Word2Vec lifecycle event {'update': False, 'trim_rule': 'None', 'datetime': '2021-12-08T13:57:39.423870', 'gensim': '4.1.2', 'python': '3.8.8 (default, Apr 13 2021, 15:08:03) [MSC v.1916 64 bit (AMD64)]', 'platform': 'Windows-10-10.0.19041-SP0', 'event': 'build_vocab'}\n",
      "2021-12-08 13:57:39,423 : INFO : Word2Vec lifecycle event {'msg': 'training model with 3 workers on 6940 vocabulary and 300 features, using sg=0 hs=0 sample=0.001 negative=5 window=8 shrink_windows=True', 'datetime': '2021-12-08T13:57:39.423870', 'gensim': '4.1.2', 'python': '3.8.8 (default, Apr 13 2021, 15:08:03) [MSC v.1916 64 bit (AMD64)]', 'platform': 'Windows-10-10.0.19041-SP0', 'event': 'train'}\n",
      "2021-12-08 13:57:39,579 : INFO : worker thread finished; awaiting finish of 2 more threads\n",
      "2021-12-08 13:57:39,584 : INFO : worker thread finished; awaiting finish of 1 more threads\n",
      "2021-12-08 13:57:39,591 : INFO : worker thread finished; awaiting finish of 0 more threads\n",
      "2021-12-08 13:57:39,593 : INFO : EPOCH - 1 : training on 177027 raw words (127013 effective words) took 0.2s, 771850 effective words/s\n",
      "2021-12-08 13:57:39,749 : INFO : worker thread finished; awaiting finish of 2 more threads\n",
      "2021-12-08 13:57:39,765 : INFO : worker thread finished; awaiting finish of 1 more threads\n",
      "2021-12-08 13:57:39,773 : INFO : worker thread finished; awaiting finish of 0 more threads\n",
      "2021-12-08 13:57:39,774 : INFO : EPOCH - 2 : training on 177027 raw words (126799 effective words) took 0.2s, 711810 effective words/s\n",
      "2021-12-08 13:57:39,915 : INFO : worker thread finished; awaiting finish of 2 more threads\n",
      "2021-12-08 13:57:39,930 : INFO : worker thread finished; awaiting finish of 1 more threads\n",
      "2021-12-08 13:57:39,932 : INFO : worker thread finished; awaiting finish of 0 more threads\n",
      "2021-12-08 13:57:39,934 : INFO : EPOCH - 3 : training on 177027 raw words (127004 effective words) took 0.2s, 814804 effective words/s\n",
      "2021-12-08 13:57:40,097 : INFO : worker thread finished; awaiting finish of 2 more threads\n",
      "2021-12-08 13:57:40,105 : INFO : worker thread finished; awaiting finish of 1 more threads\n",
      "2021-12-08 13:57:40,109 : INFO : worker thread finished; awaiting finish of 0 more threads\n",
      "2021-12-08 13:57:40,109 : INFO : EPOCH - 4 : training on 177027 raw words (126939 effective words) took 0.2s, 757990 effective words/s\n",
      "2021-12-08 13:57:40,263 : INFO : worker thread finished; awaiting finish of 2 more threads\n",
      "2021-12-08 13:57:40,263 : INFO : worker thread finished; awaiting finish of 1 more threads\n",
      "2021-12-08 13:57:40,274 : INFO : worker thread finished; awaiting finish of 0 more threads\n",
      "2021-12-08 13:57:40,274 : INFO : EPOCH - 5 : training on 177027 raw words (126685 effective words) took 0.2s, 783226 effective words/s\n",
      "2021-12-08 13:57:40,275 : INFO : Word2Vec lifecycle event {'msg': 'training on 885135 raw words (634440 effective words) took 0.8s, 746669 effective words/s', 'datetime': '2021-12-08T13:57:40.275399', 'gensim': '4.1.2', 'python': '3.8.8 (default, Apr 13 2021, 15:08:03) [MSC v.1916 64 bit (AMD64)]', 'platform': 'Windows-10-10.0.19041-SP0', 'event': 'train'}\n",
      "2021-12-08 13:57:40,276 : INFO : Word2Vec lifecycle event {'params': 'Word2Vec(vocab=6940, vector_size=300, alpha=0.025)', 'datetime': '2021-12-08T13:57:40.276395', 'gensim': '4.1.2', 'python': '3.8.8 (default, Apr 13 2021, 15:08:03) [MSC v.1916 64 bit (AMD64)]', 'platform': 'Windows-10-10.0.19041-SP0', 'event': 'created'}\n"
     ]
    },
    {
     "name": "stdout",
     "output_type": "stream",
     "text": [
      "Wall time: 1.11 s\n"
     ]
    }
   ],
   "source": [
    "%time model_dost = gensim.models.Word2Vec(data, vector_size=300, window=8, min_count=2)"
   ]
  },
  {
   "cell_type": "markdown",
   "id": "cdb9e25f",
   "metadata": {},
   "source": [
    "Parameters were chosen with regard to what was said in the summary of the lesson: more that 300 vector size doesn't make it better, window is 8 because we need our model for semantic and min_count is 2 to get rid of the \"long tail\" of words that were used once."
   ]
  },
  {
   "cell_type": "code",
   "execution_count": 203,
   "id": "5e15853c",
   "metadata": {},
   "outputs": [
    {
     "name": "stderr",
     "output_type": "stream",
     "text": [
      "2021-12-08 13:57:49,143 : WARNING : destructive init_sims(replace=True) deprecated & no longer required for space-efficiency\n",
      "2021-12-08 13:57:49,156 : INFO : storing 6940x300 projection weights into dost.bin\n"
     ]
    },
    {
     "name": "stdout",
     "output_type": "stream",
     "text": [
      "Saving model...\n"
     ]
    }
   ],
   "source": [
    "model_dost.init_sims(replace=True)\n",
    "model_path = \"dost.bin\"\n",
    "\n",
    "print(\"Saving model...\")\n",
    "model_dost.wv.save_word2vec_format(model_path, binary=True)"
   ]
  },
  {
   "cell_type": "code",
   "execution_count": 204,
   "id": "2e593592",
   "metadata": {},
   "outputs": [
    {
     "name": "stdout",
     "output_type": "stream",
     "text": [
      "6940\n"
     ]
    }
   ],
   "source": [
    "print(len(model_dost.wv.key_to_index))"
   ]
  },
  {
   "cell_type": "code",
   "execution_count": 205,
   "id": "d4dd651a",
   "metadata": {},
   "outputs": [
    {
     "name": "stdout",
     "output_type": "stream",
     "text": [
      "['и', '–', 'он', 'не', 'в', 'что', 'я', 'быть', 'на', 'с', 'она', 'вы', 'а', 'как', 'это', 'то', 'так', 'но', 'же', 'весь', 'этот', 'все', 'да', 'ты', 'к', 'бы', 'они', 'мочь', 'один', 'у', 'еще', 'даже', 'по', 'за', 'свой', 'раскольников', 'себя', 'только', 'знать', 'сам', 'теперь', 'вдруг', 'вот', 'его', 'сказать', 'уже', 'от', 'тот', 'говорить', 'ведь', 'ну', 'человек', 'уж', 'становиться', 'из', 'о', 'такой', 'который', 'до', 'очень', 'мы', 'самый', 'соня', 'ли', 'опять', 'рука', 'нет', 'если', 'разумихин', 'тут', 'дело', 'мой', 'хотеть', 'раз', 'когда', 'ивановна', 'ни', 'другой', 'тоже', 'петрович', 'потому', 'минута', 'какой', 'ваш', 'какой-то', 'пойти', 'видеть', 'совсем', 'понимать', 'время', 'смотреть', 'или', 'ничто', 'для', 'выходить', 'тогда', 'ее', 'стоять', 'лицо', 'чтобы', 'два', 'во', 'слово', 'глаз', 'спрашивать', 'дверь', 'катерина', 'думать', 'будто', 'надо', 'приходить', 'комната', 'со', 'дуня', 'начинать', 'голова', 'почти', 'свидригайлов', 'порфирий', 'там', 'что-то', 'день', 'впрочем', 'замечать', 'много', 'взять', 'про', 'тотчас', 'кто', 'хоть', 'ж', 'петр', 'без', 'об', 'потом', 'при', 'отвечать', 'чем', 'иметь', 'хорошо', 'сейчас', 'первый', 'наконец', 'идти', 'входить', 'мысль', 'давать', 'проходить', 'под', 'можно', 'точно', 'год', 'деньги', 'где', 'оба', 'чтоб', 'сделать', 'последний', 'скоро', 'как-то', 'брат', 'час', 'конечно', 'подумать', 'несколько', 'квартира', 'мать', 'зачем', 'раскольник', 'через', 'после', 'пульхерия', 'прямо', 'лестница', 'посмотреть', 'александровна', 'место', 'ребенок', 'оставаться', 'вид', 'более', 'дом', 'что-нибудь', 'действительно', 'проговаривать', 'жить', 'совершенно', 'узнавать', 'любить', 'случай', 'вопрос', 'убивать', 'сердце', 'взгляд', 'сидеть', 'романовна', 'авдотья', 'вчера', 'особенно', 'хотя', 'всегда', 'сторона', 'шаг', 'господин', 'стол', 'здесь', 'весьма', 'друг', 'лужин', 'улица', 'продолжать', 'именно', 'жизнь', 'казаться', 'кажется', 'уходить', 'слишком', 'садиться', 'дунечка', 'пора', 'между', 'помнить', 'всякий', 'сестра', 'прибавлять', 'наш', 'перед', 'некоторый', 'родион', 'вставать', 'никогда', 'разве', 'было', 'обращаться', 'сегодня', 'чуть', 'останавливаться', 'странный', 'ходить', 'угол', 'нельзя', 'новый', 'родя', 'сей', 'каждый', 'принимать', 'никто', 'три', 'вскричать', 'голос', 'делать', 'бросаться', 'какой-нибудь', 'ах', 'слышать', 'верить', 'оставлять', 'бог', 'лежать', 'право', 'целый', 'рубль', 'крикнуть', 'прежде', 'слушать', 'большой', 'должный', 'сюда', 'ждать', 'марфа', 'довольно', 'пожалуй', 'сила', 'бояться', 'правда', 'зосимов', 'куда', 'окно', 'молодой', 'непременно', 'вещь', 'мера', 'софья', 'почему', 'давно', 'петровна', 'кричать', 'ужасно', 'стул', 'пьяный', 'нога', 'давеча', 'семеновна', 'третий', 'настасья', 'все-таки', 'однако', 'глядеть', 'рассказывать', 'подходить', 'кровь', 'пять', 'женщина', 'вместе', 'ночь', 'больной', 'б', 'твой', 'маленький', 'господи', 'увидеть', 'письмо', 'оно', 'забывать', 'назад', 'долго', 'просто', 'прежний', 'иной', 'прийти', 'чувствовать', 'над', 'случаться', 'находить', 'хороший', 'диван', 'амалия', 'карман', 'крайний', 'кроме', 'мало', 'мгновение', 'неужели', 'показываться', 'считать', 'полагать', 'черт', 'месяц', 'особенный', 'изволить', 'просить', 'дорога', 'старуха', 'немного', 'чувство', 'несмотря', 'разговор', 'дворник', 'ум', 'например', 'хотеться', 'иногда', 'показывать', 'десять', 'ясно', 'плакать', 'смеяться', 'вода', 'никакой', 'успевать', 'тысяча', 'образ', 'и…', 'прощать', 'получать', 'вскрикивать', 'ко', 'вечер', 'позволять', 'конец', 'дрожать', 'отворять', 'собственный', 'топор', 'бросать', 'полный', 'доходить', 'бедный', 'сходить', 'платье', 'желать', 'хозяйка', 'улыбка', 'отец', 'напротив', 'читать', 'бред', 'вчерашний', 'я…', 'стена', 'разумеется', 'умирать', 'хе', 'контора', 'затем', 'ль', 'их', 'спать', 'нарочно', 'странно']\n"
     ]
    }
   ],
   "source": [
    "print([w for w in model_dost.wv.key_to_index][:400])"
   ]
  },
  {
   "cell_type": "code",
   "execution_count": 215,
   "id": "1fb73173",
   "metadata": {},
   "outputs": [
    {
     "data": {
      "text/plain": [
       "[('прощать', 0.9997504949569702),\n",
       " ('извинять', 0.9997163414955139),\n",
       " ('почему', 0.9996880292892456),\n",
       " ('лгать', 0.9996306896209717),\n",
       " ('зайти', 0.9995552897453308),\n",
       " ('господи', 0.9995284676551819),\n",
       " ('сейчас', 0.9994646906852722),\n",
       " ('куда', 0.9994579553604126),\n",
       " ('батюшка', 0.9994152784347534),\n",
       " ('мой', 0.9993937015533447)]"
      ]
     },
     "execution_count": 215,
     "metadata": {},
     "output_type": "execute_result"
    }
   ],
   "source": [
    "model_dost.wv.most_similar('бог', topn=10)"
   ]
  },
  {
   "cell_type": "code",
   "execution_count": 216,
   "id": "7fd1906e",
   "metadata": {},
   "outputs": [
    {
     "data": {
      "text/plain": [
       "0.99967825"
      ]
     },
     "execution_count": 216,
     "metadata": {},
     "output_type": "execute_result"
    }
   ],
   "source": [
    "model_dost.wv.similarity(\"преступление\",\"убийство\")"
   ]
  },
  {
   "cell_type": "code",
   "execution_count": 295,
   "id": "800a61b8",
   "metadata": {},
   "outputs": [
    {
     "data": {
      "text/plain": [
       "'комната'"
      ]
     },
     "execution_count": 295,
     "metadata": {},
     "output_type": "execute_result"
    }
   ],
   "source": [
    "model_dost.wv.doesnt_match(\"улица мост площадь комната\".split())"
   ]
  },
  {
   "cell_type": "markdown",
   "id": "ac55086b",
   "metadata": {},
   "source": [
    "For the presentation I left only the best examples from what I tested. I think, they show that some semantic tasks are solved correctly by this model."
   ]
  },
  {
   "cell_type": "code",
   "execution_count": 218,
   "id": "7a4686f2",
   "metadata": {},
   "outputs": [],
   "source": [
    "from sklearn.decomposition import PCA\n",
    "import matplotlib.pyplot as plt\n",
    "%matplotlib inline"
   ]
  },
  {
   "cell_type": "code",
   "execution_count": 234,
   "id": "697235c6",
   "metadata": {},
   "outputs": [],
   "source": [
    "words = ['раскольников', 'соня', 'дуня','разумихин', 'старуха', 'порфирий', 'мармеладов', 'свидригайлов']\n",
    "X = model_dost.wv[words]"
   ]
  },
  {
   "cell_type": "code",
   "execution_count": 235,
   "id": "eea665e9",
   "metadata": {},
   "outputs": [],
   "source": [
    "pca = PCA(n_components=2)\n",
    "coords = pca.fit_transform(X)"
   ]
  },
  {
   "cell_type": "code",
   "execution_count": 236,
   "id": "29ecf717",
   "metadata": {},
   "outputs": [
    {
     "data": {
      "image/png": "[encoded data removed]",
      "text/plain": [
       "<Figure size 432x288 with 1 Axes>"
      ]
     },
     "metadata": {
      "needs_background": "light"
     },
     "output_type": "display_data"
    }
   ],
   "source": [
    "plt.scatter(coords[:, 0], coords[:, 1], color='red')\n",
    "plt.title('Characters')\n",
    "\n",
    "for i, word in enumerate(words):\n",
    "    plt.annotate(word, xy=(coords[i, 0], coords[i, 1]))\n",
    "plt.show()"
   ]
  },
  {
   "cell_type": "markdown",
   "id": "74e1e90a",
   "metadata": {},
   "source": [
    "It seems that higher scores on vertical show how \"main\" the character is, or how frequently it is mentioned. They probably move to the right or to the left depending on how frequent they are mentioned together."
   ]
  },
  {
   "cell_type": "code",
   "execution_count": 271,
   "id": "df69610d",
   "metadata": {
    "scrolled": true
   },
   "outputs": [
    {
     "name": "stdout",
     "output_type": "stream",
     "text": [
      "['он', 'объяснять', 'успевать', 'сила', 'даже', 'даже', 'болезненный', 'общество', 'забывать', 'на', 'полный', 'мгновение', 'встречаться', 'он', 'маленький', 'подлец', 'который', 'он', 'больше', 'забывать', 'и', 'уж', 'видеть', 'встречать']\n"
     ]
    }
   ],
   "source": [
    "sent = \"Он был задавлен бедностью; но даже стесненное положение перестало в последнее время тяготить его. Насущными делами своими он совсем перестал и не хотел заниматься.\"\n",
    "#'И каждый раз молодой человек, проходя мимо, чувствовал какое-то болезненное и трусливое ощущение, которого стыдился и от которого морщился. Он был должен кругом хозяйке и боялся с нею встретиться.'\n",
    "lem = m.lemmatize(sent)\n",
    "ana = m.analyze(sent)\n",
    "sent2 = []\n",
    "for word in ana:\n",
    "    if 'analysis' in word:\n",
    "        gr = word['analysis'][0]['gr']\n",
    "        pos = gr.split('=')[0].split(',')[0]\n",
    "        lex = word['analysis'][0]['lex']\n",
    "        synonyms = model_dost.wv.most_similar(lex, topn=20)\n",
    "        sy = []\n",
    "        for i in synonyms:\n",
    "            sy.append(list(i)[0])\n",
    "        synana = m.analyze(str(sy))\n",
    "        synonym = lex\n",
    "        for syn in synana:\n",
    "            if 'analysis' in syn:\n",
    "                gr2 = syn['analysis'][0]['gr']\n",
    "                pos2 = gr2.split('=')[0].split(',')[0]\n",
    "                if pos == pos2:\n",
    "                    synonym=syn['analysis'][0]['lex']\n",
    "                    break\n",
    "        sent2.append(synonym)\n",
    "print(sent2)"
   ]
  },
  {
   "cell_type": "code",
   "execution_count": 279,
   "id": "f56241d3",
   "metadata": {},
   "outputs": [
    {
     "name": "stdout",
     "output_type": "stream",
     "text": [
      "['он', 'был', 'задавлен', 'бедностью', 'но', 'даже', 'стесненное', 'положение', 'перестало', 'в', 'последнее', 'время', 'тяготить', 'его', 'насущными', 'делами', 'своими', 'он', 'совсем', 'перестал', 'и', 'не', 'хотел', 'заниматься']\n"
     ]
    }
   ],
   "source": [
    "#sent = sent.split()\n",
    "sent1 = []\n",
    "for w in sent:\n",
    "    w = w.lower()\n",
    "    w = w.strip('.,;')\n",
    "    sent1.append(w)\n",
    "print(sent1)"
   ]
  },
  {
   "cell_type": "code",
   "execution_count": 268,
   "id": "34f06145",
   "metadata": {},
   "outputs": [
    {
     "name": "stderr",
     "output_type": "stream",
     "text": [
      "2021-12-08 18:37:22,226 : INFO : Loading dictionaries from C:\\Users\\user\\anaconda3\\lib\\site-packages\\pymorphy2_dicts_ru\\data\n",
      "2021-12-08 18:37:22,292 : INFO : format: 2.4, revision: 417127, updated: 2020-10-11T15:05:51.070345\n"
     ]
    }
   ],
   "source": [
    "from pymorphy2 import MorphAnalyzer\n",
    "morph = MorphAnalyzer()"
   ]
  },
  {
   "cell_type": "code",
   "execution_count": 290,
   "id": "44abca7b",
   "metadata": {},
   "outputs": [
    {
     "name": "stdout",
     "output_type": "stream",
     "text": [
      "он объяснял успевать силой даже даже болезненное общество забывало на полное мгновение встречаться его маленькими подлецами которыми он больше забывал и уж видел встречать \n"
     ]
    }
   ],
   "source": [
    "res = ''\n",
    "for i in range(len(sent1)):\n",
    "    ana = morph.parse(sent1[i])[0]\n",
    "    ana2 = morph.parse(sent2[i])[0]\n",
    "    w = ana2.word\n",
    "    for form in ana2.lexeme:\n",
    "        if str(ana.tag).split()[-1] == str(form.tag).split()[-1]: #сравниваем только непостоянные морф признаки - после ' ' в tag\n",
    "            w = form.word\n",
    "            break\n",
    "    res = res + w + ' '\n",
    "print(res)"
   ]
  }
 ],
 "metadata": {
  "kernelspec": {
   "display_name": "Python 3",
   "language": "python",
   "name": "python3"
  },
  "language_info": {
   "codemirror_mode": {
    "name": "ipython",
    "version": 3
   },
   "file_extension": ".py",
   "mimetype": "text/x-python",
   "name": "python",
   "nbconvert_exporter": "python",
   "pygments_lexer": "ipython3",
   "version": "3.8.8"
  }
 },
 "nbformat": 4,
 "nbformat_minor": 5
}
