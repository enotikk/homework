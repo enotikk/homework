{
 "cells": [
  {
   "cell_type": "markdown",
   "id": "79bf1a04",
   "metadata": {},
   "source": [
    "# Second prepositional case in Russian dialectal corpora"
   ]
  },
  {
   "cell_type": "markdown",
   "id": "13a67ad4",
   "metadata": {},
   "source": [
    "## Introduction"
   ]
  },
  {
   "cell_type": "markdown",
   "id": "22809d42",
   "metadata": {},
   "source": [
    "This project aims to collect and analyze data from corpora of Russian dialects for my diploma. It focuses on usage of second prepositional (locative) case (loc2 tag in the corpora). The existing works on the topic allow to assume that the following parameters can be relevant: \n",
    "1) animacy -- in standard Russian only inanimate nouns can be in loc2;\n",
    "2) preposition -- only 'na' and 'v'/'vo' are attested with loc2; \n",
    "3) gender -- masculine is dominant, but in dialects there also can be neutral (3rd declension feminine nouns also have loc2 form, but it marks only by accent placement, which is not accesible in our data);\n",
    "4) last consonant of the stem -- could be more loc2 forms with velars and less with palatalized;\n",
    "5) number of syllables (1 is more preferred) and place of accent (do not have in our data). \n",
    "Also, in many dialects there is only a limited group of nouns that can be used in loc2, so the lemma itself could be a parameter."
   ]
  },
  {
   "cell_type": "markdown",
   "id": "f56c1183",
   "metadata": {},
   "source": [
    "## Data Collection"
   ]
  },
  {
   "cell_type": "markdown",
   "id": "9f7232b3",
   "metadata": {},
   "source": [
    "Automatic download of data is now in development process. When it is ready, this script will be applied to handle data from several corpora, that work in the same way. For now I will manually search for the needed data in one corpus (http://lingconlab.ru/khislavichi/#!/) using CQL Search that is built in:"
   ]
  },
  {
   "cell_type": "raw",
   "id": "fe63fef6",
   "metadata": {},
   "source": [
    "> [(word='.*(у|ю)'%c)& (tag = 'NOUN,(anim|inan),(masc|neut),sing,(loct|loc2|datv).*'%c)]"
   ]
  },
  {
   "cell_type": "markdown",
   "id": "3f7a1c50",
   "metadata": {},
   "source": [
    "This query looks for words that end with -u or -ju letter and have tags, mentioned above. Loc2 forms are not easy to find for the parser, so they can be analized as locative and dative as well as loc2."
   ]
  },
  {
   "cell_type": "markdown",
   "id": "2c20b420",
   "metadata": {},
   "source": [
    "Then the corpora allow to download results in tsv-format. We will turn it to a dataframe."
   ]
  },
  {
   "cell_type": "code",
   "execution_count": 81,
   "id": "9f7607a5",
   "metadata": {},
   "outputs": [],
   "source": [
    "import pandas as pd\n",
    "data = pd.read_csv (\"khislavichi_res.tsv\", sep = '\\t')"
   ]
  },
  {
   "cell_type": "markdown",
   "id": "d416692e",
   "metadata": {},
   "source": [
    "That is how our dataframe looks like:"
   ]
  },
  {
   "cell_type": "code",
   "execution_count": 82,
   "id": "bf60409e",
   "metadata": {},
   "outputs": [
    {
     "data": {
      "text/html": [
       "<div>\n",
       "<style scoped>\n",
       "    .dataframe tbody tr th:only-of-type {\n",
       "        vertical-align: middle;\n",
       "    }\n",
       "\n",
       "    .dataframe tbody tr th {\n",
       "        vertical-align: top;\n",
       "    }\n",
       "\n",
       "    .dataframe thead th {\n",
       "        text-align: right;\n",
       "    }\n",
       "</style>\n",
       "<table border=\"1\" class=\"dataframe\">\n",
       "  <thead>\n",
       "    <tr style=\"text-align: right;\">\n",
       "      <th></th>\n",
       "      <th>utterance_id</th>\n",
       "      <th>From</th>\n",
       "      <th>To</th>\n",
       "      <th>File</th>\n",
       "      <th>Id</th>\n",
       "      <th>String id</th>\n",
       "      <th>Year of birth</th>\n",
       "      <th>Sex</th>\n",
       "      <th>Education</th>\n",
       "      <th>Place of birth</th>\n",
       "      <th>Place of living</th>\n",
       "      <th>Left Context</th>\n",
       "      <th>DMatch</th>\n",
       "      <th>Right Context</th>\n",
       "    </tr>\n",
       "  </thead>\n",
       "  <tbody>\n",
       "    <tr>\n",
       "      <th>0</th>\n",
       "      <td>24.0</td>\n",
       "      <td>108453.0</td>\n",
       "      <td>114376.0</td>\n",
       "      <td>2019_zhanvil_pds1932_4_2</td>\n",
       "      <td>NaN</td>\n",
       "      <td>pds1932</td>\n",
       "      <td>1932.0</td>\n",
       "      <td>f</td>\n",
       "      <td>4 класса</td>\n",
       "      <td>Шипы</td>\n",
       "      <td>Жанвиль</td>\n",
       "      <td>Ну, вы = из</td>\n",
       "      <td>дому</td>\n",
       "      <td>выносят, кто ямку роет, и те (тэя) выносят.</td>\n",
       "    </tr>\n",
       "    <tr>\n",
       "      <th>1</th>\n",
       "      <td>39.0</td>\n",
       "      <td>175700.0</td>\n",
       "      <td>180982.0</td>\n",
       "      <td>2019_zhanvil_pds1932_4_2</td>\n",
       "      <td>NaN</td>\n",
       "      <td>pds1932</td>\n",
       "      <td>1932.0</td>\n",
       "      <td>f</td>\n",
       "      <td>4 класса</td>\n",
       "      <td>Шипы</td>\n",
       "      <td>Жанвиль</td>\n",
       "      <td>Ну тогда (тады) ж при = к</td>\n",
       "      <td>вечеру</td>\n",
       "      <td>ж её, надо надеть и всё, гроб если готовый.</td>\n",
       "    </tr>\n",
       "    <tr>\n",
       "      <th>2</th>\n",
       "      <td>132.0</td>\n",
       "      <td>553567.0</td>\n",
       "      <td>558426.0</td>\n",
       "      <td>2019_zhanvil_pds1932_4_2</td>\n",
       "      <td>NaN</td>\n",
       "      <td>pds1932</td>\n",
       "      <td>1932.0</td>\n",
       "      <td>f</td>\n",
       "      <td>4 класса</td>\n",
       "      <td>Шипы</td>\n",
       "      <td>Жанвиль</td>\n",
       "      <td>Ну ва = ну копали</td>\n",
       "      <td>могилочку</td>\n",
       "      <td>, как (як) чей - то где - то, вон там (тама), ...</td>\n",
       "    </tr>\n",
       "    <tr>\n",
       "      <th>3</th>\n",
       "      <td>194.0</td>\n",
       "      <td>868946.0</td>\n",
       "      <td>872511.0</td>\n",
       "      <td>2019_zhanvil_pds1932_4_2</td>\n",
       "      <td>NaN</td>\n",
       "      <td>pds1932</td>\n",
       "      <td>1932.0</td>\n",
       "      <td>f</td>\n",
       "      <td>4 класса</td>\n",
       "      <td>Шипы</td>\n",
       "      <td>Жанвиль</td>\n",
       "      <td>Как (як), этот (этый), как (як) опустишь гроб ...</td>\n",
       "      <td>гробу</td>\n",
       "      <td>,</td>\n",
       "    </tr>\n",
       "    <tr>\n",
       "      <th>4</th>\n",
       "      <td>319.0</td>\n",
       "      <td>59180.0</td>\n",
       "      <td>63480.0</td>\n",
       "      <td>2019_zhanvil_pds1932_4_1</td>\n",
       "      <td>NaN</td>\n",
       "      <td>pds1932</td>\n",
       "      <td>1932.0</td>\n",
       "      <td>f</td>\n",
       "      <td>4 класса</td>\n",
       "      <td>Шипы</td>\n",
       "      <td>Жанвиль</td>\n",
       "      <td>Ну, ну она (ина) ну но =, может,</td>\n",
       "      <td>ночьу</td>\n",
       "      <td>, ну дочка тутай её.</td>\n",
       "    </tr>\n",
       "  </tbody>\n",
       "</table>\n",
       "</div>"
      ],
      "text/plain": [
       "   utterance_id      From        To                      File  Id String id  \\\n",
       "0          24.0  108453.0  114376.0  2019_zhanvil_pds1932_4_2 NaN   pds1932   \n",
       "1          39.0  175700.0  180982.0  2019_zhanvil_pds1932_4_2 NaN   pds1932   \n",
       "2         132.0  553567.0  558426.0  2019_zhanvil_pds1932_4_2 NaN   pds1932   \n",
       "3         194.0  868946.0  872511.0  2019_zhanvil_pds1932_4_2 NaN   pds1932   \n",
       "4         319.0   59180.0   63480.0  2019_zhanvil_pds1932_4_1 NaN   pds1932   \n",
       "\n",
       "   Year of birth Sex Education Place of birth Place of living  \\\n",
       "0         1932.0   f  4 класса           Шипы         Жанвиль   \n",
       "1         1932.0   f  4 класса           Шипы         Жанвиль   \n",
       "2         1932.0   f  4 класса           Шипы         Жанвиль   \n",
       "3         1932.0   f  4 класса           Шипы         Жанвиль   \n",
       "4         1932.0   f  4 класса           Шипы         Жанвиль   \n",
       "\n",
       "                                        Left Context     DMatch  \\\n",
       "0                                        Ну, вы = из       дому   \n",
       "1                          Ну тогда (тады) ж при = к     вечеру   \n",
       "2                                  Ну ва = ну копали  могилочку   \n",
       "3  Как (як), этот (этый), как (як) опустишь гроб ...      гробу   \n",
       "4                   Ну, ну она (ина) ну но =, может,      ночьу   \n",
       "\n",
       "                                       Right Context  \n",
       "0        выносят, кто ямку роет, и те (тэя) выносят.  \n",
       "1        ж её, надо надеть и всё, гроб если готовый.  \n",
       "2  , как (як) чей - то где - то, вон там (тама), ...  \n",
       "3                                                  ,  \n",
       "4                               , ну дочка тутай её.  "
      ]
     },
     "execution_count": 82,
     "metadata": {},
     "output_type": "execute_result"
    }
   ],
   "source": [
    "data.head()"
   ]
  },
  {
   "cell_type": "markdown",
   "id": "f27360c7",
   "metadata": {},
   "source": [
    "This is raw data with a lot of noise in it."
   ]
  },
  {
   "cell_type": "markdown",
   "id": "6a8934a5",
   "metadata": {},
   "source": [
    "## Preprocessing"
   ]
  },
  {
   "cell_type": "markdown",
   "id": "4ab4716a",
   "metadata": {},
   "source": [
    "Now let's clean our data by deleting entries without necessary prepositions in the left context. And then we will retrieve the relevant parameters (animacy, gender, preposition, number of syllables in the stem and the last consonant in the stem) and add them to a new dataframe. "
   ]
  },
  {
   "cell_type": "code",
   "execution_count": 83,
   "id": "ef36b6c9",
   "metadata": {},
   "outputs": [],
   "source": [
    "from pymorphy2 import MorphAnalyzer\n",
    "morph = MorphAnalyzer()"
   ]
  },
  {
   "cell_type": "code",
   "execution_count": 84,
   "id": "44b7180f",
   "metadata": {},
   "outputs": [],
   "source": [
    "lemas = []\n",
    "anim = []\n",
    "gender = []\n",
    "finale = []\n",
    "nsyll = []\n",
    "prep = []\n",
    "i = 0\n",
    "for cont in data['Left Context']:\n",
    "    c = str(cont).lower().split()\n",
    "    p = ''\n",
    "    for w in c[:-5:-1]:\n",
    "        ana = morph.parse(w.strip(',.?:;-=()!'))[0]\n",
    "        if ana.tag.POS == 'PREP':\n",
    "            p = ana.word\n",
    "            break\n",
    "    if p == 'на' or p== 'в' or p=='во':\n",
    "        prep.append(p)\n",
    "    else:\n",
    "        data = data.drop([i])\n",
    "    i += 1\n",
    "for word in data['DMatch']:\n",
    "    word = str(word)\n",
    "    ana = morph.parse(word.lower())[0]\n",
    "    lemas.append(ana.normal_form) #лемма\n",
    "    anim.append(ana.tag.animacy) #одушевленность\n",
    "    gender.append(ana.tag.gender) #род\n",
    "    \n",
    "    if word[-1] == 'у':\n",
    "        finale.append(word[-2])\n",
    "    elif word[-2] in 'уеыаоэяиюё':\n",
    "        finale.append('j')\n",
    "    else:\n",
    "        finale.append(word[-2]+\"'\") # исход основы\n",
    "        \n",
    "    n = 0\n",
    "    for letter in ana.normal_form:\n",
    "        if letter in 'уеыаоэяиюё':\n",
    "            n += 1\n",
    "    nsyll.append(n)# количество слогов в основе"
   ]
  },
  {
   "cell_type": "code",
   "execution_count": 85,
   "id": "b0f8e148",
   "metadata": {},
   "outputs": [
    {
     "data": {
      "text/html": [
       "<div>\n",
       "<style scoped>\n",
       "    .dataframe tbody tr th:only-of-type {\n",
       "        vertical-align: middle;\n",
       "    }\n",
       "\n",
       "    .dataframe tbody tr th {\n",
       "        vertical-align: top;\n",
       "    }\n",
       "\n",
       "    .dataframe thead th {\n",
       "        text-align: right;\n",
       "    }\n",
       "</style>\n",
       "<table border=\"1\" class=\"dataframe\">\n",
       "  <thead>\n",
       "    <tr style=\"text-align: right;\">\n",
       "      <th></th>\n",
       "      <th>word</th>\n",
       "      <th>lema</th>\n",
       "      <th>animacy</th>\n",
       "      <th>gender</th>\n",
       "      <th>finale</th>\n",
       "      <th>n_syll</th>\n",
       "      <th>preposition</th>\n",
       "    </tr>\n",
       "  </thead>\n",
       "  <tbody>\n",
       "    <tr>\n",
       "      <th>5</th>\n",
       "      <td>сундуку</td>\n",
       "      <td>сундук</td>\n",
       "      <td>inan</td>\n",
       "      <td>masc</td>\n",
       "      <td>к</td>\n",
       "      <td>2</td>\n",
       "      <td>в</td>\n",
       "    </tr>\n",
       "    <tr>\n",
       "      <th>7</th>\n",
       "      <td>сундуку</td>\n",
       "      <td>сундук</td>\n",
       "      <td>inan</td>\n",
       "      <td>masc</td>\n",
       "      <td>к</td>\n",
       "      <td>2</td>\n",
       "      <td>в</td>\n",
       "    </tr>\n",
       "    <tr>\n",
       "      <th>9</th>\n",
       "      <td>гробу</td>\n",
       "      <td>гроб</td>\n",
       "      <td>inan</td>\n",
       "      <td>masc</td>\n",
       "      <td>б</td>\n",
       "      <td>1</td>\n",
       "      <td>в</td>\n",
       "    </tr>\n",
       "    <tr>\n",
       "      <th>13</th>\n",
       "      <td>году</td>\n",
       "      <td>год</td>\n",
       "      <td>inan</td>\n",
       "      <td>masc</td>\n",
       "      <td>д</td>\n",
       "      <td>1</td>\n",
       "      <td>в</td>\n",
       "    </tr>\n",
       "    <tr>\n",
       "      <th>14</th>\n",
       "      <td>году</td>\n",
       "      <td>год</td>\n",
       "      <td>inan</td>\n",
       "      <td>masc</td>\n",
       "      <td>д</td>\n",
       "      <td>1</td>\n",
       "      <td>в</td>\n",
       "    </tr>\n",
       "  </tbody>\n",
       "</table>\n",
       "</div>"
      ],
      "text/plain": [
       "       word    lema animacy gender finale  n_syll preposition\n",
       "5   сундуку  сундук    inan   masc      к       2           в\n",
       "7   сундуку  сундук    inan   masc      к       2           в\n",
       "9     гробу    гроб    inan   masc      б       1           в\n",
       "13     году     год    inan   masc      д       1           в\n",
       "14     году     год    inan   masc      д       1           в"
      ]
     },
     "execution_count": 85,
     "metadata": {},
     "output_type": "execute_result"
    }
   ],
   "source": [
    "df = pd.DataFrame({'word': data['DMatch'],\n",
    "                   'lema': lemas,\n",
    "                 'animacy': anim,\n",
    "                   'gender': gender,\n",
    "                   'finale': finale,\n",
    "                   'n_syll': nsyll,\n",
    "                   'preposition': prep\n",
    "                  })\n",
    "df.head()"
   ]
  },
  {
   "cell_type": "code",
   "execution_count": 104,
   "id": "a1b169de",
   "metadata": {},
   "outputs": [
    {
     "name": "stdout",
     "output_type": "stream",
     "text": [
      "<class 'pandas.core.frame.DataFrame'>\n",
      "Int64Index: 229 entries, 5 to 827\n",
      "Data columns (total 7 columns):\n",
      " #   Column       Non-Null Count  Dtype \n",
      "---  ------       --------------  ----- \n",
      " 0   word         229 non-null    object\n",
      " 1   lema         229 non-null    object\n",
      " 2   animacy      229 non-null    object\n",
      " 3   gender       229 non-null    object\n",
      " 4   finale       229 non-null    object\n",
      " 5   n_syll       229 non-null    int64 \n",
      " 6   preposition  229 non-null    object\n",
      "dtypes: int64(1), object(6)\n",
      "memory usage: 14.3+ KB\n"
     ]
    }
   ],
   "source": [
    "df.info()"
   ]
  },
  {
   "cell_type": "markdown",
   "id": "e738c3b7",
   "metadata": {},
   "source": [
    "## Analyses"
   ]
  },
  {
   "cell_type": "markdown",
   "id": "89366b3d",
   "metadata": {},
   "source": [
    "Here are parameters and their frequencies."
   ]
  },
  {
   "cell_type": "code",
   "execution_count": 90,
   "id": "1aaada10",
   "metadata": {},
   "outputs": [
    {
     "data": {
      "text/plain": [
       "год          0.279476\n",
       "лес          0.126638\n",
       "вид          0.052402\n",
       "край         0.030568\n",
       "бок          0.026201\n",
       "               ...   \n",
       "бык          0.004367\n",
       "як           0.004367\n",
       "санаторий    0.004367\n",
       "бресник      0.004367\n",
       "белор        0.004367\n",
       "Name: lema, Length: 74, dtype: float64"
      ]
     },
     "execution_count": 90,
     "metadata": {},
     "output_type": "execute_result"
    }
   ],
   "source": [
    "df['lema'].value_counts(normalize=True)"
   ]
  },
  {
   "cell_type": "markdown",
   "id": "3d1b0782",
   "metadata": {},
   "source": [
    "We can see that 5 most frequent lemmas make about 50 percent of all the examples. That means some lemmas preffer loc2 and some don't."
   ]
  },
  {
   "cell_type": "code",
   "execution_count": 91,
   "id": "79ecc471",
   "metadata": {},
   "outputs": [
    {
     "data": {
      "text/plain": [
       "inan    0.938865\n",
       "anim    0.061135\n",
       "Name: animacy, dtype: float64"
      ]
     },
     "execution_count": 91,
     "metadata": {},
     "output_type": "execute_result"
    }
   ],
   "source": [
    "df['animacy'].value_counts(normalize=True)"
   ]
  },
  {
   "cell_type": "markdown",
   "id": "b8c8d425",
   "metadata": {},
   "source": [
    "As expected, most of nouns used in loc2 are inanimate, however, there are about 6 percent of animate nouns, that would be impossible for standard Russian. Let's have a look on them."
   ]
  },
  {
   "cell_type": "code",
   "execution_count": 102,
   "id": "1cbcc81a",
   "metadata": {},
   "outputs": [
    {
     "name": "stdout",
     "output_type": "stream",
     "text": [
      "          word      lema animacy gender finale  n_syll preposition\n",
      "48     собняку    собняк    anim   masc      к       2          на\n",
      "82        лясу       ляс    anim   masc      с       1           в\n",
      "113    горлачу    горлач    anim   masc      ч       2           в\n",
      "168    мусорку    мусорк    anim   masc      к       2           в\n",
      "196        яку        як    anim   masc      к       1           в\n",
      "203    Жавинку    жавинк    anim   masc      к       2           в\n",
      "340      Бычку     бычок    anim   masc      к       2           в\n",
      "341      Бычку     бычок    anim   masc      к       2           в\n",
      "342      Бычку     бычок    anim   masc      к       2           в\n",
      "364   человеку   человек    anim   masc      к       3           в\n",
      "405       быку       бык    anim   masc      к       1          на\n",
      "569  Малиннику  малинник    anim   masc      к       3           в\n",
      "598   большаку   большак    anim   masc      к       2          на\n",
      "757  покойнику  покойник    anim   masc      к       3           в\n"
     ]
    }
   ],
   "source": [
    "print(df[df['animacy']=='anim'])"
   ]
  },
  {
   "cell_type": "markdown",
   "id": "01576cdd",
   "metadata": {},
   "source": [
    "When we have a look at the context, it turns out that even examples with animate (and not falsely recognized as animate) nouns are not relevant because they are not in loc2. To avoid such noise we would have to consider syntactic structure."
   ]
  },
  {
   "cell_type": "code",
   "execution_count": 92,
   "id": "1ca62b6a",
   "metadata": {},
   "outputs": [
    {
     "data": {
      "text/plain": [
       "masc    0.973799\n",
       "neut    0.026201\n",
       "Name: gender, dtype: float64"
      ]
     },
     "execution_count": 92,
     "metadata": {},
     "output_type": "execute_result"
    }
   ],
   "source": [
    "df['gender'].value_counts(normalize=True)"
   ]
  },
  {
   "cell_type": "code",
   "execution_count": 94,
   "id": "342ee708",
   "metadata": {},
   "outputs": [
    {
     "name": "stdout",
     "output_type": "stream",
     "text": [
      "            word         lema animacy gender finale  n_syll preposition\n",
      "150       у'лицу       у'лицо    inan   neut      ц       3          на\n",
      "155       у'лицу       у'лицо    inan   neut      ц       3          на\n",
      "178    могилочку    могилочко    inan   neut      к       4          на\n",
      "520  государству  государство    inan   neut      в       4          на\n",
      "534   обсуждению   обсуждение    inan   neut      j       5           в\n",
      "581      тёрочку      тёрочко    inan   neut      к       3          на\n"
     ]
    }
   ],
   "source": [
    "print(df[df['gender']=='neut'])"
   ]
  },
  {
   "cell_type": "markdown",
   "id": "4fc459e5",
   "metadata": {},
   "source": [
    "Loc2 is aplicable mostly to masculine nouns, very few neutral nouns are either marked meutral by mistake or need to be further analized in a broader context."
   ]
  },
  {
   "cell_type": "code",
   "execution_count": 88,
   "id": "a0f0dcfe",
   "metadata": {},
   "outputs": [
    {
     "data": {
      "text/plain": [
       "д     88\n",
       "к     44\n",
       "с     30\n",
       "т     15\n",
       "j     10\n",
       "б      7\n",
       "л      6\n",
       "в      6\n",
       "р      5\n",
       "г      5\n",
       "н      3\n",
       "м      2\n",
       "ц      2\n",
       "ф      2\n",
       "ч      2\n",
       "н'     1\n",
       "х      1\n",
       "Name: finale, dtype: int64"
      ]
     },
     "execution_count": 88,
     "metadata": {},
     "output_type": "execute_result"
    }
   ],
   "source": [
    "df['finale'].value_counts()"
   ]
  },
  {
   "cell_type": "markdown",
   "id": "6d39e66c",
   "metadata": {},
   "source": [
    "We see that most frequent finales are d, k and s. D and s are explained by most frequent in loc2 lexemes 'les' and 'god', and high frequency of finale k supports the hypothesis about preference of velar finales in loc2. Among all the examples there is only one with palatalized finale -- n' (NB j is palatal, not palatalized), which supports the idea that loc2 dispreffers palatalized finales."
   ]
  },
  {
   "cell_type": "code",
   "execution_count": 89,
   "id": "5c582196",
   "metadata": {},
   "outputs": [
    {
     "data": {
      "text/plain": [
       "1    175\n",
       "2     34\n",
       "3     15\n",
       "4      4\n",
       "5      1\n",
       "Name: n_syll, dtype: int64"
      ]
     },
     "execution_count": 89,
     "metadata": {},
     "output_type": "execute_result"
    }
   ],
   "source": [
    "df['n_syll'].value_counts()"
   ]
  },
  {
   "cell_type": "markdown",
   "id": "bb36d3af",
   "metadata": {},
   "source": [
    "We can see that the more syllables in the noun the less frequent it is in loc2."
   ]
  },
  {
   "cell_type": "markdown",
   "id": "72303e09",
   "metadata": {},
   "source": [
    "Let us compare frequencies of usual locative and loc2 in inanimate masculine 1-syllable nouns. For that we use another CQL query:\n",
    "Query: [(word='.*(е)'%c)& (tag = 'NOUN,inan,masc,sing,loct.*'%c)]\n",
    "Number of results: 738"
   ]
  },
  {
   "cell_type": "code",
   "execution_count": 115,
   "id": "0d63d4d2",
   "metadata": {},
   "outputs": [],
   "source": [
    "data_e = pd.read_csv (\"khislavichi_e.tsv\", sep = '\\t')"
   ]
  },
  {
   "cell_type": "code",
   "execution_count": 116,
   "id": "8b2942b4",
   "metadata": {},
   "outputs": [],
   "source": [
    "i = 0\n",
    "for word in data_e['DMatch']:\n",
    "    word = str(word).lower()\n",
    "    n = 0\n",
    "    for letter in word[:-1]:\n",
    "        if letter in 'уеыаоэяиюё':\n",
    "            n += 1\n",
    "    if n > 1:\n",
    "        data_e = data_e.drop([i])\n",
    "    i += 1"
   ]
  },
  {
   "cell_type": "code",
   "execution_count": 124,
   "id": "6913ebab",
   "metadata": {},
   "outputs": [
    {
     "name": "stdout",
     "output_type": "stream",
     "text": [
      "Percentage of loc2 forms out of all locative forms: 46.96629213483146\n"
     ]
    }
   ],
   "source": [
    "u_forms = len(df[(df.gender=='masc')&(df.animacy=='inan')].index)\n",
    "e_forms = len(data_e.index)\n",
    "loc2_perc = u_forms/(e_forms+u_forms)*100\n",
    "print(\"Percentage of loc2 forms out of all locative forms:\", loc2_perc)"
   ]
  },
  {
   "cell_type": "markdown",
   "id": "f5db66ee",
   "metadata": {},
   "source": [
    "We can compare this result with DARL (Dialectological Atlas of Russian Language) data."
   ]
  },
  {
   "cell_type": "markdown",
   "id": "02c9f7bd",
   "metadata": {},
   "source": [
    "![DARL Map 14 Volume II Morphology](019.jpg \"DARL Map 14 Volume II Morphology\")"
   ]
  },
  {
   "cell_type": "markdown",
   "id": "e879531e",
   "metadata": {},
   "source": [
    "As we can see, DARL marks Khislavichi district (to the south from Smolensk, on the river Sozh) as territory with 61 to 70 percent of loc2. And modern data of the corpus gives us only 47 percent."
   ]
  },
  {
   "cell_type": "markdown",
   "id": "ed9f749e",
   "metadata": {},
   "source": [
    "## Conclusions"
   ]
  },
  {
   "cell_type": "markdown",
   "id": "ee8cd9a1",
   "metadata": {},
   "source": [
    "Data collection based on CQL query that accounts for mistakes in automatic morphologic analyses (includes all possible tags) and further cleaning with regard to the context has shown good results for searching loc2 forms. The irrelevant results were caused only by some unknown for MorphAnalyzer words and by the fact that we did not account for syntactic structure while looking for prepositions.\n",
    "The parameters discussed in introduction seem to be relevant for our data.\n",
    "The comparison with DARL data showed that in the chosen area the percentage of loc2 forms decreased.\n",
    "Plans for the future include developement of the current project by analyzing other corpora and by automatization of data collection process."
   ]
  }
 ],
 "metadata": {
  "kernelspec": {
   "display_name": "Python 3",
   "language": "python",
   "name": "python3"
  },
  "language_info": {
   "codemirror_mode": {
    "name": "ipython",
    "version": 3
   },
   "file_extension": ".py",
   "mimetype": "text/x-python",
   "name": "python",
   "nbconvert_exporter": "python",
   "pygments_lexer": "ipython3",
   "version": "3.8.8"
  }
 },
 "nbformat": 4,
 "nbformat_minor": 5
}
